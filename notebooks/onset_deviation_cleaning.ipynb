{
 "cells": [
  {
   "cell_type": "code",
   "execution_count": null,
   "id": "bb2e8926",
   "metadata": {},
   "outputs": [],
   "source": [
    "%cd .."
   ]
  },
  {
   "cell_type": "code",
   "execution_count": null,
   "id": "a3928fbd",
   "metadata": {},
   "outputs": [],
   "source": [
    "from virtuoso.dataset import ScorePerformDataset, FeatureCollate\n",
    "from pathlib import Path\n",
    "from virtuoso.pyScoreParser import data_for_training as dft, data_class\n",
    "import numpy as np"
   ]
  },
  {
   "cell_type": "code",
   "execution_count": null,
   "id": "515faeab",
   "metadata": {},
   "outputs": [],
   "source": [
    "dataset_path = '/home/teo/userdata/datasets/chopin_cleaned/'"
   ]
  },
  {
   "cell_type": "code",
   "execution_count": null,
   "id": "15c6d46f",
   "metadata": {},
   "outputs": [],
   "source": [
    "dataset = data_class.YamahaDataset(dataset_path, save=False, features_only=True)\n"
   ]
  },
  {
   "cell_type": "code",
   "execution_count": null,
   "id": "b06ff29a",
   "metadata": {},
   "outputs": [],
   "source": [
    "aligned_onset_deviations = []\n",
    "average_deviaiton_list = []\n",
    "ratio_list = []\n",
    "for piece in dataset.pieces:\n",
    "  for perform in piece.performances:\n",
    "    len_notes =  len(perform.perform_features['align_matched'])\n",
    "    num_aligned_notes = sum(perform.perform_features['align_matched'])\n",
    "    if len_notes - num_aligned_notes > 800:\n",
    "      continue\n",
    "    if len_notes > num_aligned_notes * 1.5:\n",
    "      continue\n",
    "    align_matched = np.asarray(perform.perform_features['align_matched']) == 1\n",
    "    valid_onset_deviation = np.abs(perform.perform_features['onset_deviation'])[align_matched]\n",
    "    max_deviation = max(valid_onset_deviation)\n",
    "    average_deviation = valid_onset_deviation.mean()\n",
    "    over_dev_ratio = np.sum(valid_onset_deviation>1) / np.sum(align_matched)\n",
    "    too_large_dev_num = np.sum(valid_onset_deviation>4)\n",
    "#     if over_dev_ratio > 0.005:\n",
    "#       print(perform.midi_path)\n",
    "#       continue\n",
    "    if max_deviation > 4:\n",
    "      print(max_deviation, average_deviation, over_dev_ratio)\n",
    "      print(too_large_dev_num)\n",
    "    aligned_onset_deviations += valid_onset_deviation.tolist()\n",
    "\n",
    "    average_deviaiton_list.append(average_deviation)\n",
    "    ratio_list.append(over_dev_ratio)"
   ]
  },
  {
   "cell_type": "code",
   "execution_count": null,
   "id": "73b7d442",
   "metadata": {},
   "outputs": [],
   "source": [
    "import plotly.express as px\n",
    "\n",
    "px.histogram(average_deviaiton_list)"
   ]
  },
  {
   "cell_type": "code",
   "execution_count": null,
   "id": "354bd2c8",
   "metadata": {
    "scrolled": true
   },
   "outputs": [],
   "source": [
    "px.histogram(ratio_list)"
   ]
  },
  {
   "cell_type": "code",
   "execution_count": null,
   "id": "a20772a7",
   "metadata": {},
   "outputs": [],
   "source": [
    "px.histogram(aligned_onset_deviations)"
   ]
  },
  {
   "cell_type": "code",
   "execution_count": null,
   "id": "8dbf2cd6",
   "metadata": {},
   "outputs": [],
   "source": [
    "train_set = ScorePerformDataset(args.data_path, \n",
    "                                type=\"train\", \n",
    "                                len_slice=args.len_slice, \n",
    "                                len_graph_slice=args.len_graph_slice, \n",
    "                                graph_keys=args.graph_keys, \n",
    "                                hier_type=curr_type)\n"
   ]
  }
 ],
 "metadata": {
  "kernelspec": {
   "display_name": "Python 3 (ipykernel)",
   "language": "python",
   "name": "python3"
  },
  "language_info": {
   "codemirror_mode": {
    "name": "ipython",
    "version": 3
   },
   "file_extension": ".py",
   "mimetype": "text/x-python",
   "name": "python",
   "nbconvert_exporter": "python",
   "pygments_lexer": "ipython3",
   "version": "3.8.10"
  }
 },
 "nbformat": 4,
 "nbformat_minor": 5
}
