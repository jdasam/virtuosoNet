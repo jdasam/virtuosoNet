{
 "cells": [
  {
   "cell_type": "code",
   "execution_count": 1,
   "metadata": {},
   "outputs": [
    {
     "name": "stdout",
     "output_type": "stream",
     "text": [
      "/home/teo/userdata/virtuosoNet\n"
     ]
    }
   ],
   "source": [
    "%cd .."
   ]
  },
  {
   "cell_type": "code",
   "execution_count": 2,
   "metadata": {},
   "outputs": [],
   "source": [
    "from virtuoso.pyScoreParser import feature_extraction\n",
    "from virtuoso.pyScoreParser import data_for_training as dft, data_class\n",
    "from virtuoso.utils import load_dat\n",
    "from pathlib import Path\n",
    "import argparse\n"
   ]
  },
  {
   "cell_type": "code",
   "execution_count": 2,
   "metadata": {},
   "outputs": [],
   "source": [
    "dir_path = Path('/home/teo/userdata/datasets/EmotionData/')"
   ]
  },
  {
   "cell_type": "code",
   "execution_count": 3,
   "metadata": {},
   "outputs": [],
   "source": [
    "musicxml_lists = list(dir_path.glob('*.musicxml'))"
   ]
  },
  {
   "cell_type": "code",
   "execution_count": 11,
   "metadata": {},
   "outputs": [],
   "source": [
    "for mxl in musicxml_lists:\n",
    "  mid_path = mxl.parent / (mxl.stem + '.mid')\n",
    "  if mid_path.exists():\n",
    "    print(mid_path)\n",
    "  "
   ]
  },
  {
   "cell_type": "code",
   "execution_count": 12,
   "metadata": {},
   "outputs": [],
   "source": [
    "old_stat = load_dat('dataset_section_tempo/stat.dat')"
   ]
  },
  {
   "cell_type": "code",
   "execution_count": 14,
   "metadata": {},
   "outputs": [
    {
     "data": {
      "text/plain": [
       "{'mean': -0.003597605901362934, 'stds': 0.11477704338080841}"
      ]
     },
     "execution_count": 14,
     "metadata": {},
     "output_type": "execute_result"
    }
   ],
   "source": [
    "old_stat['stats']['onset_deviation']"
   ]
  },
  {
   "cell_type": "code",
   "execution_count": 20,
   "metadata": {},
   "outputs": [
    {
     "data": {
      "text/plain": [
       "{'midi_pitch': {'mean': 64.32383183689362, 'stds': 14.316395664046741},\n",
       " 'duration': {'mean': 0.5637116375137422, 'stds': 0.7260830624590562},\n",
       " 'beat_importance': {'mean': 1.3572861980982422, 'stds': 1.4104357592954475},\n",
       " 'measure_length': {'mean': 3.6414865160302416, 'stds': 3.1067246985230854},\n",
       " 'qpm_primo': {'mean': 2.006380277621148, 'stds': 0.25931961995133956},\n",
       " 'section_tempo': {'mean': 2.0646816321464017, 'stds': 0.21224816513540865},\n",
       " 'following_rest': {'mean': 0.08145020238427425, 'stds': 1.5536582698604553},\n",
       " 'distance_from_abs_dynamic': {'mean': 26.066603080335653,\n",
       "  'stds': 44.182034798221444},\n",
       " 'distance_from_recent_tempo': {'mean': 184.18339357513858,\n",
       "  'stds': 258.5556390661121},\n",
       " 'beat_tempo': {'mean': 2.078640621608291, 'stds': 0.23331381986658198},\n",
       " 'velocity': {'mean': 65.63663862764477, 'stds': 18.0522358688273},\n",
       " 'onset_deviation': {'mean': -0.0036103044900877897,\n",
       "  'stds': 0.1147463658186742},\n",
       " 'articulation': {'mean': -0.25468626064606464, 'stds': 0.3182157063905635},\n",
       " 'pedal_refresh_time': {'mean': 0.03691131272356133,\n",
       "  'stds': 0.16723218283686148},\n",
       " 'pedal_cut_time': {'mean': 0.020749048153169834, 'stds': 0.1618951520340266},\n",
       " 'pedal_at_start': {'mean': 78.44992341031619, 'stds': 51.99076935754731},\n",
       " 'pedal_at_end': {'mean': 82.73321962991535, 'stds': 51.30557901388358},\n",
       " 'soft_pedal': {'mean': 33.24878092243087, 'stds': 53.89575450111517},\n",
       " 'pedal_refresh': {'mean': 60.16970821724392, 'stds': 54.49995091914338},\n",
       " 'pedal_cut': {'mean': 79.06813105000636, 'stds': 52.154538249686695},\n",
       " 'beat_dynamics': {'mean': 72.46557775466835, 'stds': 14.987596242352986},\n",
       " 'measure_tempo': {'mean': 2.07583721903342, 'stds': 0.22871308114010605},\n",
       " 'measure_dynamics': {'mean': 75.07625412306668, 'stds': 13.967387523215717}}"
      ]
     },
     "execution_count": 20,
     "metadata": {},
     "output_type": "execute_result"
    }
   ],
   "source": [
    "new_stat = load_dat('datasets/main_dataset/stat.dat')\n",
    "new_stat['stats']"
   ]
  },
  {
   "cell_type": "code",
   "execution_count": 3,
   "metadata": {},
   "outputs": [],
   "source": [
    "dir_path = Path('datasets/emotion_dataset_wo_slur/train')"
   ]
  },
  {
   "cell_type": "code",
   "execution_count": 4,
   "metadata": {},
   "outputs": [],
   "source": [
    "data_list = list(dir_path.glob('*.mid.dat'))"
   ]
  },
  {
   "cell_type": "code",
   "execution_count": 6,
   "metadata": {},
   "outputs": [],
   "source": [
    "data_list.sort()"
   ]
  },
  {
   "cell_type": "code",
   "execution_count": 5,
   "metadata": {},
   "outputs": [
    {
     "data": {
      "text/plain": [
       "900"
      ]
     },
     "execution_count": 5,
     "metadata": {},
     "output_type": "execute_result"
    }
   ],
   "source": [
    "len(data_list)"
   ]
  },
  {
   "cell_type": "code",
   "execution_count": 6,
   "metadata": {},
   "outputs": [],
   "source": [
    "data_list = list(dir_path.glob('*.mid.dat'))\n",
    "for pth in data_list:\n",
    "  if 'E1' in pth.stem:\n",
    "    for i in range(2,6):\n",
    "      other_emotion_path = pth.parent / (pth.stem.replace('E1', f'E{i}') +'.dat')\n",
    "      if not other_emotion_path.exists():\n",
    "        try:\n",
    "          pth.unlink()\n",
    "        except:\n",
    "          continue\n",
    "data_list = list(dir_path.glob('*.mid.dat'))\n",
    "data_list.sort()\n",
    "for pth in data_list:\n",
    "  if 'E1' in pth.stem:\n",
    "    continue\n",
    "  for i in range(2,6):\n",
    "    other_emotion_path = pth.parent / (pth.stem.replace(f'E{i}', 'E1') +'.dat')\n",
    "    if not other_emotion_path.exists():\n",
    "      try:\n",
    "        pth.unlink()\n",
    "      except:\n",
    "        continue"
   ]
  },
  {
   "cell_type": "code",
   "execution_count": 7,
   "metadata": {},
   "outputs": [],
   "source": [
    "data_list = list(dir_path.glob('*.mid.dat'))"
   ]
  },
  {
   "cell_type": "code",
   "execution_count": 8,
   "metadata": {},
   "outputs": [
    {
     "data": {
      "text/plain": [
       "890"
      ]
     },
     "execution_count": 8,
     "metadata": {},
     "output_type": "execute_result"
    }
   ],
   "source": [
    "len(data_list)"
   ]
  },
  {
   "cell_type": "code",
   "execution_count": 23,
   "metadata": {},
   "outputs": [
    {
     "data": {
      "text/plain": [
       "'Bach.french-suite_bwv812_no1_allemande.mm_1-end.s004.E2.mid'"
      ]
     },
     "execution_count": 23,
     "metadata": {},
     "output_type": "execute_result"
    }
   ],
   "source": [
    "data_list[0].stem.replace('E1', 'E2')"
   ]
  },
  {
   "cell_type": "code",
   "execution_count": null,
   "metadata": {},
   "outputs": [],
   "source": []
  }
 ],
 "metadata": {
  "interpreter": {
   "hash": "31f2aee4e71d21fbe5cf8b01ff0e069b9275f58929596ceb00d14d90e3e16cd6"
  },
  "kernelspec": {
   "display_name": "Python 3 (ipykernel)",
   "language": "python",
   "name": "python3"
  },
  "language_info": {
   "codemirror_mode": {
    "name": "ipython",
    "version": 3
   },
   "file_extension": ".py",
   "mimetype": "text/x-python",
   "name": "python",
   "nbconvert_exporter": "python",
   "pygments_lexer": "ipython3",
   "version": "3.8.10"
  }
 },
 "nbformat": 4,
 "nbformat_minor": 2
}
