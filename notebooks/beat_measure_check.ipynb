{
 "cells": [
  {
   "cell_type": "code",
   "execution_count": 1,
   "id": "0c4acb14",
   "metadata": {},
   "outputs": [
    {
     "name": "stdout",
     "output_type": "stream",
     "text": [
      "/home/teo/userdata/virtuosoNet\n"
     ]
    }
   ],
   "source": [
    "%cd .."
   ]
  },
  {
   "cell_type": "code",
   "execution_count": 27,
   "id": "eaa6f06e",
   "metadata": {},
   "outputs": [],
   "source": [
    "from virtuoso.train import prepare_dataloader\n",
    "from virtuoso.parser import get_parser\n",
    "from virtuoso import utils, model as modelzoo\n",
    "from virtuoso.dataset import ScorePerformDataset, FeatureCollate\n",
    "from virtuoso.module import ContextAttention\n",
    "from virtuoso.model_utils import make_higher_node\n",
    "import torch"
   ]
  },
  {
   "cell_type": "code",
   "execution_count": 7,
   "id": "aac49030",
   "metadata": {},
   "outputs": [],
   "source": [
    "parser = get_parser()\n",
    "args = parser.parse_args(\n",
    "    args=[\"--yml_path=ymls/han_measnote.yml\",\n",
    "          \"--data_path=datasets/main_dataset_clamped\",\n",
    "          \"--emotion_data_path=datasets/emotion_dataset_clamped\",\n",
    "          \"--device=cpu\"]\n",
    ")\n",
    "args, net_params, configs = utils.handle_args(args)\n",
    "device = 'cpu'"
   ]
  },
  {
   "cell_type": "code",
   "execution_count": 9,
   "id": "46ce6832",
   "metadata": {},
   "outputs": [],
   "source": [
    "train_loader, valid_loader, emotion_loader, multi_perf_loader = prepare_dataloader(args)"
   ]
  },
  {
   "cell_type": "code",
   "execution_count": 32,
   "id": "d8cff8d8",
   "metadata": {},
   "outputs": [],
   "source": [
    "attention = ContextAttention(16, 2).to('cuda')"
   ]
  },
  {
   "cell_type": "code",
   "execution_count": 36,
   "id": "e25d7424",
   "metadata": {},
   "outputs": [
    {
     "name": "stderr",
     "output_type": "stream",
     "text": [
      "100%|█████████████████████████████████████████████████████████████████████████████████████████████████████████████████████████████████████████| 100/100 [36:32<00:00, 21.92s/it]\n"
     ]
    }
   ],
   "source": [
    "from tqdm import tqdm\n",
    "\n",
    "for i in tqdm(range(100)):\n",
    "  train_loader.dataset.update_slice_info()\n",
    "  for batch in train_loader:\n",
    "    note_locations = batch[4]\n",
    "    dummy_note = torch.ones(note_locations['beat'].shape[0], note_locations['beat'].shape[1], 16).to('cuda')\n",
    "    beat = make_higher_node(dummy_note, attention, note_locations['beat'], note_locations['beat'], lower_is_note=True)\n",
    "    measure = make_higher_node(beat, attention, note_locations['beat'], note_locations['measure'])"
   ]
  },
  {
   "cell_type": "code",
   "execution_count": 37,
   "id": "8c42f49d",
   "metadata": {},
   "outputs": [
    {
     "data": {
      "text/plain": [
       "torch.Size([27, 823, 16])"
      ]
     },
     "execution_count": 37,
     "metadata": {},
     "output_type": "execute_result"
    }
   ],
   "source": [
    "dummy_note.shape"
   ]
  },
  {
   "cell_type": "code",
   "execution_count": null,
   "id": "29795cd2",
   "metadata": {},
   "outputs": [],
   "source": []
  }
 ],
 "metadata": {
  "kernelspec": {
   "display_name": "Python 3 (ipykernel)",
   "language": "python",
   "name": "python3"
  },
  "language_info": {
   "codemirror_mode": {
    "name": "ipython",
    "version": 3
   },
   "file_extension": ".py",
   "mimetype": "text/x-python",
   "name": "python",
   "nbconvert_exporter": "python",
   "pygments_lexer": "ipython3",
   "version": "3.8.10"
  }
 },
 "nbformat": 4,
 "nbformat_minor": 5
}
